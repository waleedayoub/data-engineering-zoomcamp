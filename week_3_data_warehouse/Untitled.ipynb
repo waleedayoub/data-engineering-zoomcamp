{
 "cells": [
  {
   "cell_type": "code",
   "execution_count": 3,
   "id": "93dc676d-6f53-47ed-a17c-3374167e2dc1",
   "metadata": {},
   "outputs": [
    {
     "name": "stdout",
     "output_type": "stream",
     "text": [
      "whatever this thing is 01\n",
      "whatever this thing is 02\n",
      "whatever this thing is 03\n",
      "whatever this thing is 04\n",
      "whatever this thing is 05\n",
      "whatever this thing is 06\n",
      "whatever this thing is 07\n",
      "whatever this thing is 08\n",
      "whatever this thing is 09\n",
      "whatever this thing is 10\n",
      "whatever this thing is 11\n",
      "whatever this thing is 12\n"
     ]
    }
   ],
   "source": [
    "for i in range(12):\n",
    "    month = \"0\" + str(i+1)\n",
    "    temp = month[-2:]\n",
    "    print(f\"whatever this thing is {temp}\")"
   ]
  },
  {
   "cell_type": "code",
   "execution_count": 10,
   "id": "8cbe507f-1e54-4d68-8d5c-9525402fa1ce",
   "metadata": {},
   "outputs": [
    {
     "name": "stdout",
     "output_type": "stream",
     "text": [
      "012\n"
     ]
    }
   ],
   "source": [
    "x = \"0\" + str(12)\n",
    "print(x)"
   ]
  },
  {
   "cell_type": "code",
   "execution_count": 11,
   "id": "53c37bd0-eac4-414c-81b5-73c85757cfa5",
   "metadata": {},
   "outputs": [
    {
     "data": {
      "text/plain": [
       "'12'"
      ]
     },
     "execution_count": 11,
     "metadata": {},
     "output_type": "execute_result"
    }
   ],
   "source": [
    "x[-2:]"
   ]
  }
 ],
 "metadata": {
  "kernelspec": {
   "display_name": "Python 3 (ipykernel)",
   "language": "python",
   "name": "python3"
  },
  "language_info": {
   "codemirror_mode": {
    "name": "ipython",
    "version": 3
   },
   "file_extension": ".py",
   "mimetype": "text/x-python",
   "name": "python",
   "nbconvert_exporter": "python",
   "pygments_lexer": "ipython3",
   "version": "3.9.16"
  }
 },
 "nbformat": 4,
 "nbformat_minor": 5
}
